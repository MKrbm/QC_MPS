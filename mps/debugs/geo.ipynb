{
 "cells": [
  {
   "cell_type": "code",
   "execution_count": 24,
   "metadata": {},
   "outputs": [],
   "source": [
    "import torch\n",
    "import geoopt\n",
    "import numpy as np\n",
    "import matplotlib.pyplot as plt\n",
    "\n",
    "# Set random seed for reproducibility\n",
    "torch.manual_seed(42)\n",
    "np.random.seed(42)\n",
    "\n",
    "# Problem setup\n",
    "dim_n = 10  # Rows\n",
    "dim_p = 10   # Columns (must be <= dim_n)\n",
    "A = torch.randn(dim_n, dim_p)  # Random matrix A\n",
    "B = torch.randn(dim_n, dim_n)  # Target matrix B"
   ]
  },
  {
   "cell_type": "code",
   "execution_count": 36,
   "metadata": {},
   "outputs": [],
   "source": [
    "# Define the Stiefel manifold\n",
    "stiefel_manifold = geoopt.manifolds.Stiefel()\n",
    "\n",
    "# Initialize a point on the Stiefel manifold\n",
    "X_init = torch.normal(0, 1, size=(dim_n, dim_p), dtype=torch.float64)\n",
    "X_init, _ = torch.qr(X_init)  # Orthogonalize to be on the manifold\n",
    "X_sgd = geoopt.ManifoldParameter(X_init.clone(), manifold=stiefel_manifold)\n",
    "X_adam = geoopt.ManifoldParameter(X_init.clone(), manifold=stiefel_manifold)\n",
    "\n",
    "# Define the loss function\n",
    "def quadratic_loss(X):\n",
    "    return torch.norm(A @ X - B, p='fro') ** 2\n",
    "\n",
    "# Optimizers\n",
    "lr = 0.01  # Learning rate\n",
    "sgd_optimizer = geoopt.optim.RiemannianSGD([X_sgd], lr=lr)\n",
    "adam_optimizer = geoopt.optim.RiemannianAdam([X_adam], lr=lr)\n",
    "\n",
    "# Training loop settings\n",
    "max_iters = 5000\n",
    "convergence_threshold = 1e-6\n",
    "patience = 10"
   ]
  },
  {
   "cell_type": "code",
   "execution_count": 28,
   "metadata": {},
   "outputs": [],
   "source": [
    "x = X_init\n",
    "g = torch.randn(dim_n, dim_p)\n",
    "\n",
    "rg = g - x @ g.T.conj() @ x"
   ]
  },
  {
   "cell_type": "code",
   "execution_count": 34,
   "metadata": {},
   "outputs": [
    {
     "data": {
      "text/plain": [
       "array([[ 1.00000000e+00,  4.66942264e-17, -1.84249235e-16,\n",
       "         5.81449071e-17,  1.57494012e-16,  5.54329758e-17,\n",
       "         9.99333942e-17, -1.64029362e-16,  1.31237965e-16,\n",
       "        -7.84588524e-17],\n",
       "       [ 4.66942264e-17,  1.00000000e+00, -2.81497212e-16,\n",
       "        -3.10855765e-16,  1.83392528e-16, -1.21977183e-16,\n",
       "        -2.76596993e-17,  1.12274052e-16,  4.67952735e-18,\n",
       "         1.63741571e-17],\n",
       "       [-1.84249235e-16, -2.81497212e-16,  1.00000000e+00,\n",
       "        -1.37028934e-16,  8.17325399e-18,  6.00121326e-17,\n",
       "         7.94909630e-18, -1.32214116e-17,  6.64422336e-17,\n",
       "        -5.62358495e-17],\n",
       "       [ 5.81449071e-17, -3.10855765e-16, -1.37028934e-16,\n",
       "         1.00000000e+00, -2.31993071e-17,  5.82334148e-18,\n",
       "         3.29532778e-19,  3.01553302e-17,  5.98394286e-18,\n",
       "        -2.67887525e-17],\n",
       "       [ 1.57494012e-16,  1.83392528e-16,  8.17325399e-18,\n",
       "        -2.31993071e-17,  1.00000000e+00, -5.76856649e-17,\n",
       "        -1.03132824e-16,  1.32072350e-16, -1.40487223e-16,\n",
       "        -1.52820610e-17],\n",
       "       [ 5.54329758e-17, -1.21977183e-16,  6.00121326e-17,\n",
       "         5.82334148e-18, -5.76856649e-17,  1.00000000e+00,\n",
       "        -2.37951266e-17, -1.13066039e-16, -1.51066318e-16,\n",
       "         1.02733663e-16],\n",
       "       [ 9.99333942e-17, -2.76596993e-17,  7.94909630e-18,\n",
       "         3.29532778e-19, -1.03132824e-16, -2.37951266e-17,\n",
       "         1.00000000e+00, -2.84537237e-18, -8.05794644e-17,\n",
       "         2.06229857e-17],\n",
       "       [-1.64029362e-16,  1.12274052e-16, -1.32214116e-17,\n",
       "         3.01553302e-17,  1.32072350e-16, -1.13066039e-16,\n",
       "        -2.84537237e-18,  1.00000000e+00, -5.68934810e-17,\n",
       "         9.23660614e-17],\n",
       "       [ 1.31237965e-16,  4.67952735e-18,  6.64422336e-17,\n",
       "         5.98394286e-18, -1.40487223e-16, -1.51066318e-16,\n",
       "        -8.05794644e-17, -5.68934810e-17,  1.00000000e+00,\n",
       "         9.88920754e-17],\n",
       "       [-7.84588524e-17,  1.63741571e-17, -5.62358495e-17,\n",
       "        -2.67887525e-17, -1.52820610e-17,  1.02733663e-16,\n",
       "         2.06229857e-17,  9.23660614e-17,  9.88920754e-17,\n",
       "         1.00000000e+00]])"
      ]
     },
     "execution_count": 34,
     "metadata": {},
     "output_type": "execute_result"
    }
   ],
   "source": [
    "from scipy.stats import unitary_group, ortho_group\n",
    "\n",
    "u = ortho_group.rvs(dim_n)\n",
    "u @ u.T.conj()"
   ]
  },
  {
   "cell_type": "code",
   "execution_count": 33,
   "metadata": {},
   "outputs": [
    {
     "data": {
      "text/plain": [
       "tensor([[ 8.9407e-08,  1.7881e-07,  6.8545e-07,  1.7881e-07, -2.3842e-07,\n",
       "          2.0862e-07,  3.2037e-07,  1.0431e-06, -2.0862e-07, -5.9605e-08],\n",
       "        [ 5.9605e-08,  1.1921e-07, -7.0781e-08, -1.5646e-07, -7.4506e-08,\n",
       "          9.3132e-08, -2.0862e-07, -1.7881e-07,  2.3842e-07, -1.2293e-07],\n",
       "        [-7.4506e-08,  1.3411e-07,  0.0000e+00,  0.0000e+00,  1.7881e-07,\n",
       "         -6.4075e-07,  1.7136e-07,  2.9802e-08,  2.8312e-07, -1.1921e-07],\n",
       "        [-2.3842e-07,  1.7881e-07, -2.3842e-07, -5.0664e-07, -2.5332e-07,\n",
       "          2.6822e-07, -1.7881e-07, -6.3330e-08,  3.8743e-07, -1.4901e-07],\n",
       "        [-3.7998e-07, -2.7381e-07, -2.9802e-08, -5.5879e-08, -2.3097e-07,\n",
       "         -4.7684e-07,  2.9802e-08,  2.9802e-08,  1.2293e-07,  2.9802e-08],\n",
       "        [ 2.3842e-07,  2.3842e-07, -4.4703e-08, -2.9802e-08, -8.9407e-08,\n",
       "         -1.4901e-08,  1.4156e-07,  4.6194e-07,  4.7684e-07,  5.0664e-07],\n",
       "        [ 2.1979e-07, -1.1921e-07,  4.4703e-08,  1.1921e-07, -2.3842e-07,\n",
       "          2.3842e-07, -1.7881e-07, -5.9605e-08, -2.2352e-07, -2.2352e-07],\n",
       "        [-2.6077e-07, -1.9372e-07,  5.9605e-08, -4.0978e-08,  1.1921e-07,\n",
       "          1.8254e-07,  0.0000e+00, -1.3411e-07,  3.8743e-07,  1.0431e-07],\n",
       "        [-2.9802e-08,  0.0000e+00, -1.6391e-07, -1.1921e-07,  3.2783e-07,\n",
       "          8.9407e-08,  1.1921e-07,  0.0000e+00, -2.3842e-07, -3.2783e-07],\n",
       "        [-1.0431e-07, -1.1921e-07,  1.1921e-07, -1.0431e-07, -7.4506e-08,\n",
       "         -4.7684e-07, -5.9605e-08,  7.4506e-08, -1.1921e-07, -2.4587e-07]])"
      ]
     },
     "execution_count": 33,
     "metadata": {},
     "output_type": "execute_result"
    }
   ],
   "source": [
    "torch.linalg.matrix_exp(rg @ x.T.conj()) @ x - x @ torch.linalg.matrix_exp(x.T.conj() @ rg)"
   ]
  },
  {
   "cell_type": "code",
   "execution_count": 26,
   "metadata": {},
   "outputs": [],
   "source": [
    "U, S, V = torch.linalg.svd(X_init, full_matrices=False)\n",
    "A = U @ V\n"
   ]
  },
  {
   "cell_type": "code",
   "execution_count": 27,
   "metadata": {},
   "outputs": [],
   "source": [
    "# Create a random matrix for the complementary space of shape (n, n-p)\n",
    "A = torch.randn(dim_n, dim_n - dim_p, dtype=X_init.dtype, device=X_init.device)\n",
    "# Project out the components in the span of W so that A is in the complement of W:\n",
    "A = A - X_init @ (X_init.T @ A)\n",
    "# Perform QR on A to get an orthonormal basis for the complement:\n",
    "Q, _ = torch.linalg.qr(A)\n",
    "# Concatenate W and Q to form W_tilde:\n",
    "W_tilde = torch.cat([X_init, Q], dim=1)"
   ]
  },
  {
   "cell_type": "code",
   "execution_count": null,
   "metadata": {},
   "outputs": [],
   "source": [
    "x = x_ini"
   ]
  },
  {
   "cell_type": "code",
   "execution_count": 89,
   "metadata": {},
   "outputs": [
    {
     "data": {
      "text/plain": [
       "tensor([[ -9.0651,  -7.0870,  -6.0973,   1.0166,  -3.1239],\n",
       "        [ -7.0870,  -8.2470,  -8.4099,  -0.8544,  -4.6700],\n",
       "        [ -6.0973,  -8.4099, -14.3863,  -6.2188,  -7.9235],\n",
       "        [  1.0166,  -0.8544,  -6.2188,  -9.1306,  -4.9703],\n",
       "        [ -3.1239,  -4.6700,  -7.9235,  -4.9703,  -5.2943]],\n",
       "       grad_fn=<SubBackward0>)"
      ]
     },
     "execution_count": 89,
     "metadata": {},
     "output_type": "execute_result"
    }
   ],
   "source": [
    "rg = g - x @ g.T.conj() @ x\n",
    "\n",
    "rgp = x.T.conj() @ rg\n",
    "\n",
    "rgp.T.conj() @ rgp - rg.T.conj() @ rg"
   ]
  },
  {
   "cell_type": "code",
   "execution_count": 3,
   "metadata": {},
   "outputs": [
    {
     "ename": "RuntimeError",
     "evalue": "mat1 and mat2 shapes cannot be multiplied (10x5 and 10x5)",
     "output_type": "error",
     "traceback": [
      "\u001b[0;31m---------------------------------------------------------------------------\u001b[0m",
      "\u001b[0;31mRuntimeError\u001b[0m                              Traceback (most recent call last)",
      "Cell \u001b[0;32mIn[3], line 28\u001b[0m\n\u001b[1;32m     25\u001b[0m     \u001b[38;5;28;01mreturn\u001b[39;00m loss_history\n\u001b[1;32m     27\u001b[0m \u001b[38;5;66;03m# Run the optimization\u001b[39;00m\n\u001b[0;32m---> 28\u001b[0m loss_sgd \u001b[38;5;241m=\u001b[39m \u001b[43mtrain\u001b[49m\u001b[43m(\u001b[49m\u001b[43msgd_optimizer\u001b[49m\u001b[43m,\u001b[49m\u001b[43m \u001b[49m\u001b[43mX_sgd\u001b[49m\u001b[43m,\u001b[49m\u001b[43m \u001b[49m\u001b[38;5;124;43m\"\u001b[39;49m\u001b[38;5;124;43mRiemannian SGD\u001b[39;49m\u001b[38;5;124;43m\"\u001b[39;49m\u001b[43m)\u001b[49m\n\u001b[1;32m     29\u001b[0m loss_adam \u001b[38;5;241m=\u001b[39m train(adam_optimizer, X_adam, \u001b[38;5;124m\"\u001b[39m\u001b[38;5;124mRiemannian Adam\u001b[39m\u001b[38;5;124m\"\u001b[39m)\n",
      "Cell \u001b[0;32mIn[3], line 9\u001b[0m, in \u001b[0;36mtrain\u001b[0;34m(optimizer, X, name)\u001b[0m\n\u001b[1;32m      7\u001b[0m \u001b[38;5;28;01mfor\u001b[39;00m i \u001b[38;5;129;01min\u001b[39;00m \u001b[38;5;28mrange\u001b[39m(max_iters):\n\u001b[1;32m      8\u001b[0m     optimizer\u001b[38;5;241m.\u001b[39mzero_grad()\n\u001b[0;32m----> 9\u001b[0m     loss \u001b[38;5;241m=\u001b[39m \u001b[43mquadratic_loss\u001b[49m\u001b[43m(\u001b[49m\u001b[43mX\u001b[49m\u001b[43m)\u001b[49m\n\u001b[1;32m     10\u001b[0m     loss\u001b[38;5;241m.\u001b[39mbackward()\n\u001b[1;32m     11\u001b[0m     optimizer\u001b[38;5;241m.\u001b[39mstep()\n",
      "Cell \u001b[0;32mIn[2], line 12\u001b[0m, in \u001b[0;36mquadratic_loss\u001b[0;34m(X)\u001b[0m\n\u001b[1;32m     11\u001b[0m \u001b[38;5;28;01mdef\u001b[39;00m \u001b[38;5;21mquadratic_loss\u001b[39m(X):\n\u001b[0;32m---> 12\u001b[0m     \u001b[38;5;28;01mreturn\u001b[39;00m torch\u001b[38;5;241m.\u001b[39mnorm(\u001b[43mA\u001b[49m\u001b[43m \u001b[49m\u001b[38;5;241;43m@\u001b[39;49m\u001b[43m \u001b[49m\u001b[43mX\u001b[49m \u001b[38;5;241m-\u001b[39m B, p\u001b[38;5;241m=\u001b[39m\u001b[38;5;124m'\u001b[39m\u001b[38;5;124mfro\u001b[39m\u001b[38;5;124m'\u001b[39m) \u001b[38;5;241m*\u001b[39m\u001b[38;5;241m*\u001b[39m \u001b[38;5;241m2\u001b[39m\n",
      "\u001b[0;31mRuntimeError\u001b[0m: mat1 and mat2 shapes cannot be multiplied (10x5 and 10x5)"
     ]
    }
   ],
   "source": [
    "# Training loop for both optimizers\n",
    "def train(optimizer, X, name):\n",
    "    loss_history = []\n",
    "    best_loss = float('inf')\n",
    "    no_improve_count = 0\n",
    "    \n",
    "    for i in range(max_iters):\n",
    "        optimizer.zero_grad()\n",
    "        loss = quadratic_loss(X)\n",
    "        loss.backward()\n",
    "        optimizer.step()\n",
    "        loss_history.append(loss.item())\n",
    "        \n",
    "        # Check convergence criteria\n",
    "        if loss.item() < best_loss - convergence_threshold:\n",
    "            best_loss = loss.item()\n",
    "            no_improve_count = 0\n",
    "        else:\n",
    "            no_improve_count += 1\n",
    "        \n",
    "        if no_improve_count >= patience:\n",
    "            print(f\"{name} converged at iteration {i+1} with loss {loss.item():.6f}\")\n",
    "            break\n",
    "        \n",
    "    return loss_history\n",
    "\n",
    "# Run the optimization\n",
    "loss_sgd = train(sgd_optimizer, X_sgd, \"Riemannian SGD\")\n",
    "loss_adam = train(adam_optimizer, X_adam, \"Riemannian Adam\")"
   ]
  },
  {
   "cell_type": "code",
   "execution_count": null,
   "metadata": {},
   "outputs": [],
   "source": []
  }
 ],
 "metadata": {
  "kernelspec": {
   "display_name": "py310",
   "language": "python",
   "name": "python3"
  },
  "language_info": {
   "codemirror_mode": {
    "name": "ipython",
    "version": 3
   },
   "file_extension": ".py",
   "mimetype": "text/x-python",
   "name": "python",
   "nbconvert_exporter": "python",
   "pygments_lexer": "ipython3",
   "version": "3.10.13"
  }
 },
 "nbformat": 4,
 "nbformat_minor": 2
}
