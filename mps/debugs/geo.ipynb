{
 "cells": [
  {
   "cell_type": "code",
   "execution_count": 77,
   "metadata": {},
   "outputs": [],
   "source": [
    "import torch\n",
    "import geoopt\n",
    "import numpy as np\n",
    "import matplotlib.pyplot as plt\n",
    "\n",
    "# Set random seed for reproducibility\n",
    "torch.manual_seed(42)\n",
    "np.random.seed(42)\n",
    "\n",
    "# Problem setup\n",
    "dim_n = 10  # Rows\n",
    "dim_p = 5   # Columns (must be <= dim_n)\n",
    "A = torch.randn(dim_n, dim_p)  # Random matrix A\n",
    "B = torch.randn(dim_n, dim_n)  # Target matrix B"
   ]
  },
  {
   "cell_type": "code",
   "execution_count": 78,
   "metadata": {},
   "outputs": [
    {
     "ename": "RuntimeError",
     "evalue": "mat1 and mat2 shapes cannot be multiplied (10x5 and 10x5)",
     "output_type": "error",
     "traceback": [
      "\u001b[0;31m---------------------------------------------------------------------------\u001b[0m",
      "\u001b[0;31mRuntimeError\u001b[0m                              Traceback (most recent call last)",
      "Cell \u001b[0;32mIn[78], line 1\u001b[0m\n\u001b[0;32m----> 1\u001b[0m \u001b[43mX_init\u001b[49m\u001b[43m \u001b[49m\u001b[38;5;241;43m@\u001b[39;49m\u001b[43m \u001b[49m\u001b[43mA\u001b[49m\n",
      "\u001b[0;31mRuntimeError\u001b[0m: mat1 and mat2 shapes cannot be multiplied (10x5 and 10x5)"
     ]
    }
   ],
   "source": [
    "X_init @ A"
   ]
  },
  {
   "cell_type": "code",
   "execution_count": 79,
   "metadata": {},
   "outputs": [],
   "source": [
    "# Define the Stiefel manifold\n",
    "stiefel_manifold = geoopt.manifolds.Stiefel()\n",
    "\n",
    "# Initialize a point on the Stiefel manifold\n",
    "X_init = torch.randn(dim_n, dim_p)\n",
    "X_init, _ = torch.qr(X_init)  # Orthogonalize to be on the manifold\n",
    "X_sgd = geoopt.ManifoldParameter(X_init.clone(), manifold=stiefel_manifold)\n",
    "X_adam = geoopt.ManifoldParameter(X_init.clone(), manifold=stiefel_manifold)\n",
    "\n",
    "# Define the loss function\n",
    "def quadratic_loss(X):\n",
    "    return torch.norm(A @ X - B, p='fro') ** 2\n",
    "\n",
    "# Optimizers\n",
    "lr = 0.01  # Learning rate\n",
    "sgd_optimizer = geoopt.optim.RiemannianSGD([X_sgd], lr=lr)\n",
    "adam_optimizer = geoopt.optim.RiemannianAdam([X_adam], lr=lr)\n",
    "\n",
    "# Training loop settings\n",
    "max_iters = 5000\n",
    "convergence_threshold = 1e-6\n",
    "patience = 10"
   ]
  },
  {
   "cell_type": "code",
   "execution_count": 85,
   "metadata": {},
   "outputs": [],
   "source": [
    "x = X_sgd\n",
    "g = torch.randn(X_sgd.shape)"
   ]
  },
  {
   "cell_type": "code",
   "execution_count": 89,
   "metadata": {},
   "outputs": [
    {
     "data": {
      "text/plain": [
       "tensor([[ -9.0651,  -7.0870,  -6.0973,   1.0166,  -3.1239],\n",
       "        [ -7.0870,  -8.2470,  -8.4099,  -0.8544,  -4.6700],\n",
       "        [ -6.0973,  -8.4099, -14.3863,  -6.2188,  -7.9235],\n",
       "        [  1.0166,  -0.8544,  -6.2188,  -9.1306,  -4.9703],\n",
       "        [ -3.1239,  -4.6700,  -7.9235,  -4.9703,  -5.2943]],\n",
       "       grad_fn=<SubBackward0>)"
      ]
     },
     "execution_count": 89,
     "metadata": {},
     "output_type": "execute_result"
    }
   ],
   "source": [
    "rg = g - x @ g.T.conj() @ x\n",
    "\n",
    "rgp = x.T.conj() @ rg\n",
    "\n",
    "rgp.T.conj() @ rgp - rg.T.conj() @ rg"
   ]
  },
  {
   "cell_type": "code",
   "execution_count": 3,
   "metadata": {},
   "outputs": [
    {
     "ename": "RuntimeError",
     "evalue": "mat1 and mat2 shapes cannot be multiplied (10x5 and 10x5)",
     "output_type": "error",
     "traceback": [
      "\u001b[0;31m---------------------------------------------------------------------------\u001b[0m",
      "\u001b[0;31mRuntimeError\u001b[0m                              Traceback (most recent call last)",
      "Cell \u001b[0;32mIn[3], line 28\u001b[0m\n\u001b[1;32m     25\u001b[0m     \u001b[38;5;28;01mreturn\u001b[39;00m loss_history\n\u001b[1;32m     27\u001b[0m \u001b[38;5;66;03m# Run the optimization\u001b[39;00m\n\u001b[0;32m---> 28\u001b[0m loss_sgd \u001b[38;5;241m=\u001b[39m \u001b[43mtrain\u001b[49m\u001b[43m(\u001b[49m\u001b[43msgd_optimizer\u001b[49m\u001b[43m,\u001b[49m\u001b[43m \u001b[49m\u001b[43mX_sgd\u001b[49m\u001b[43m,\u001b[49m\u001b[43m \u001b[49m\u001b[38;5;124;43m\"\u001b[39;49m\u001b[38;5;124;43mRiemannian SGD\u001b[39;49m\u001b[38;5;124;43m\"\u001b[39;49m\u001b[43m)\u001b[49m\n\u001b[1;32m     29\u001b[0m loss_adam \u001b[38;5;241m=\u001b[39m train(adam_optimizer, X_adam, \u001b[38;5;124m\"\u001b[39m\u001b[38;5;124mRiemannian Adam\u001b[39m\u001b[38;5;124m\"\u001b[39m)\n",
      "Cell \u001b[0;32mIn[3], line 9\u001b[0m, in \u001b[0;36mtrain\u001b[0;34m(optimizer, X, name)\u001b[0m\n\u001b[1;32m      7\u001b[0m \u001b[38;5;28;01mfor\u001b[39;00m i \u001b[38;5;129;01min\u001b[39;00m \u001b[38;5;28mrange\u001b[39m(max_iters):\n\u001b[1;32m      8\u001b[0m     optimizer\u001b[38;5;241m.\u001b[39mzero_grad()\n\u001b[0;32m----> 9\u001b[0m     loss \u001b[38;5;241m=\u001b[39m \u001b[43mquadratic_loss\u001b[49m\u001b[43m(\u001b[49m\u001b[43mX\u001b[49m\u001b[43m)\u001b[49m\n\u001b[1;32m     10\u001b[0m     loss\u001b[38;5;241m.\u001b[39mbackward()\n\u001b[1;32m     11\u001b[0m     optimizer\u001b[38;5;241m.\u001b[39mstep()\n",
      "Cell \u001b[0;32mIn[2], line 12\u001b[0m, in \u001b[0;36mquadratic_loss\u001b[0;34m(X)\u001b[0m\n\u001b[1;32m     11\u001b[0m \u001b[38;5;28;01mdef\u001b[39;00m \u001b[38;5;21mquadratic_loss\u001b[39m(X):\n\u001b[0;32m---> 12\u001b[0m     \u001b[38;5;28;01mreturn\u001b[39;00m torch\u001b[38;5;241m.\u001b[39mnorm(\u001b[43mA\u001b[49m\u001b[43m \u001b[49m\u001b[38;5;241;43m@\u001b[39;49m\u001b[43m \u001b[49m\u001b[43mX\u001b[49m \u001b[38;5;241m-\u001b[39m B, p\u001b[38;5;241m=\u001b[39m\u001b[38;5;124m'\u001b[39m\u001b[38;5;124mfro\u001b[39m\u001b[38;5;124m'\u001b[39m) \u001b[38;5;241m*\u001b[39m\u001b[38;5;241m*\u001b[39m \u001b[38;5;241m2\u001b[39m\n",
      "\u001b[0;31mRuntimeError\u001b[0m: mat1 and mat2 shapes cannot be multiplied (10x5 and 10x5)"
     ]
    }
   ],
   "source": [
    "# Training loop for both optimizers\n",
    "def train(optimizer, X, name):\n",
    "    loss_history = []\n",
    "    best_loss = float('inf')\n",
    "    no_improve_count = 0\n",
    "    \n",
    "    for i in range(max_iters):\n",
    "        optimizer.zero_grad()\n",
    "        loss = quadratic_loss(X)\n",
    "        loss.backward()\n",
    "        optimizer.step()\n",
    "        loss_history.append(loss.item())\n",
    "        \n",
    "        # Check convergence criteria\n",
    "        if loss.item() < best_loss - convergence_threshold:\n",
    "            best_loss = loss.item()\n",
    "            no_improve_count = 0\n",
    "        else:\n",
    "            no_improve_count += 1\n",
    "        \n",
    "        if no_improve_count >= patience:\n",
    "            print(f\"{name} converged at iteration {i+1} with loss {loss.item():.6f}\")\n",
    "            break\n",
    "        \n",
    "    return loss_history\n",
    "\n",
    "# Run the optimization\n",
    "loss_sgd = train(sgd_optimizer, X_sgd, \"Riemannian SGD\")\n",
    "loss_adam = train(adam_optimizer, X_adam, \"Riemannian Adam\")"
   ]
  },
  {
   "cell_type": "code",
   "execution_count": null,
   "metadata": {},
   "outputs": [],
   "source": []
  }
 ],
 "metadata": {
  "kernelspec": {
   "display_name": "py310",
   "language": "python",
   "name": "python3"
  },
  "language_info": {
   "codemirror_mode": {
    "name": "ipython",
    "version": 3
   },
   "file_extension": ".py",
   "mimetype": "text/x-python",
   "name": "python",
   "nbconvert_exporter": "python",
   "pygments_lexer": "ipython3",
   "version": "3.10.13"
  }
 },
 "nbformat": 4,
 "nbformat_minor": 2
}
