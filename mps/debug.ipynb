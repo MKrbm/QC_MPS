{
 "cells": [
  {
   "cell_type": "code",
   "execution_count": 174,
   "metadata": {},
   "outputs": [],
   "source": [
    "import torch\n",
    "N = 2\n",
    "chi = 2\n",
    "d = 2\n",
    "layers = 1\n",
    "\n",
    "rand_input = torch.randn(N, 5, 2, dtype=torch.float64)\n",
    "rand_input /= torch.norm(rand_input, dim=-1, keepdim=True)\n",
    "\n"
   ]
  },
  {
   "cell_type": "code",
   "execution_count": 175,
   "metadata": {},
   "outputs": [],
   "source": [
    "from scipy.stats import unitary_group, ortho_group\n",
    "\n",
    "def random_unitary(chi, dtype=torch.float64, device=torch.device(\"cpu\")):\n",
    "    \"\"\"\n",
    "    Generate a random unitary tensor based on the dtype.\n",
    "\n",
    "    Args:\n",
    "        dtype (torch.dtype): The desired data type of the tensor.\n",
    "        device (torch.device): The device on which to create the tensor.\n",
    "\n",
    "    Returns:\n",
    "        torch.Tensor: A randomly initialized unitary tensor of shape (chi^2, chi^2).\n",
    "    \"\"\"\n",
    "    if dtype == torch.float64:\n",
    "        # Generate a random orthogonal matrix for real-valued tensors\n",
    "        unitary = torch.from_numpy(ortho_group.rvs(chi ** 2)).to(dtype=dtype, device=device)\n",
    "    elif dtype == torch.complex128:\n",
    "        # Generate a random unitary matrix for complex-valued tensors\n",
    "        unitary = torch.from_numpy(unitary_group.rvs(chi ** 2)).to(dtype=dtype, device=device)\n",
    "    else:\n",
    "        raise ValueError(\"Unsupported dtype for random_unitary. Use torch.float64 or torch.complex128.\")\n",
    "    \n",
    "    return unitary.reshape(chi, chi, chi, chi)"
   ]
  },
  {
   "cell_type": "code",
   "execution_count": 176,
   "metadata": {},
   "outputs": [
    {
     "name": "stdout",
     "output_type": "stream",
     "text": [
      "Path is not set, setting...\n",
      "Found the path\n",
      "Initialized MPS params\n"
     ]
    }
   ],
   "source": [
    "from importlib import reload\n",
    "import umps\n",
    "import tpcp_mps\n",
    "\n",
    "reload(umps)\n",
    "reload(tpcp_mps)\n",
    "# pass\n",
    "# Generate a random unitary tensor\n",
    "random_Us = [random_unitary(chi, dtype=torch.float64, device=torch.device(\"cpu\")) for _ in range(N - 1)]\n",
    "random_Us = torch.stack(random_Us, dim=0)\n",
    "\n",
    "# # Initialize uMPS with the random unitary\n",
    "umps_model = umps.uMPS(\n",
    "    N=N,\n",
    "    chi=chi,\n",
    "    d=d,\n",
    "    l=d,\n",
    "    layers=layers,\n",
    "    device=torch.device(\"cpu\"),\n",
    "    init_with_identity=False\n",
    ")\n",
    "# umps_model.initialize_MPS(init_with=random_Us)\n",
    "\n",
    "tpcpmps_model = tpcp_mps.MPSTPCP(N=N, K=1, d=d, with_identity=False)\n",
    "\n",
    "# # For now, we'll proceed without initializing tpcpmps_model with the random unitary\n",
    "# # and focus on ensuring both models produce matching outputs when initialized correctly\n",
    "\n",
    "# # Get outputs from both models"
   ]
  },
  {
   "cell_type": "code",
   "execution_count": 183,
   "metadata": {},
   "outputs": [
    {
     "name": "stdout",
     "output_type": "stream",
     "text": [
      "Initialized MPS params\n"
     ]
    }
   ],
   "source": [
    "umps_model.initialize_MPS(init_with=random_Us)\n",
    "tpcpmps_model.kraus_ops.init_params(init_with=random_Us.reshape(-1, 1, chi**2, chi**2))  # Adjust based on actual method"
   ]
  },
  {
   "cell_type": "code",
   "execution_count": 184,
   "metadata": {},
   "outputs": [],
   "source": [
    "tpcpmps_output = tpcpmps_model(rand_input.permute(1, 0, 2))\n",
    "umps_output = umps_model(rand_input)"
   ]
  },
  {
   "cell_type": "code",
   "execution_count": 185,
   "metadata": {},
   "outputs": [
    {
     "data": {
      "text/plain": [
       "tensor([-0.6662, -0.5324, -0.2442, -0.2577,  0.0340], dtype=torch.float64,\n",
       "       grad_fn=<SubBackward0>)"
      ]
     },
     "execution_count": 185,
     "metadata": {},
     "output_type": "execute_result"
    }
   ],
   "source": [
    "tpcpmps_output - umps_output"
   ]
  },
  {
   "cell_type": "code",
   "execution_count": 194,
   "metadata": {},
   "outputs": [
    {
     "data": {
      "text/plain": [
       "[Parameter containing:\n",
       " tensor([[-0.9290, -0.2097,  0.1586, -0.2606],\n",
       "         [-0.1455,  0.8681, -0.3036, -0.3647],\n",
       "         [ 0.3403, -0.2109,  0.2814, -0.8721],\n",
       "         [ 0.0083,  0.3973,  0.8964,  0.1964]], dtype=torch.float64,\n",
       "        requires_grad=True)]"
      ]
     },
     "execution_count": 194,
     "metadata": {},
     "output_type": "execute_result"
    }
   ],
   "source": [
    "list(tpcpmps_model.kraus_ops.parameters())"
   ]
  },
  {
   "cell_type": "code",
   "execution_count": 196,
   "metadata": {},
   "outputs": [
    {
     "data": {
      "text/plain": [
       "tensor(1., dtype=torch.float64)"
      ]
     },
     "execution_count": 196,
     "metadata": {},
     "output_type": "execute_result"
    }
   ],
   "source": [
    "rho1"
   ]
  },
  {
   "cell_type": "code",
   "execution_count": 204,
   "metadata": {},
   "outputs": [],
   "source": [
    "U = random_Us[0].reshape(chi**2, chi**2)\n",
    "# Get first element of input\n",
    "input1 = rand_input[0, 0, :]\n",
    "input2 = rand_input[1, 0, :]\n",
    "rho1 = torch.einsum('i,j->ij', input1, input1.conj())\n",
    "rho2 = torch.einsum('i,j->ij', input2, input2.conj())\n",
    "rho = torch.kron(rho1, rho2)\n",
    "rho = U @ rho @ U.T.conj()\n",
    "\n",
    "\n",
    "p00 = rho[0, 0]\n",
    "p01 = rho[1, 1]\n",
    "p10 = rho[2, 2]\n",
    "p11 = rho[3, 3]\n",
    "\n",
    "p0 = p00 + p01\n",
    "p1 = p00 + p10"
   ]
  },
  {
   "cell_type": "code",
   "execution_count": 211,
   "metadata": {},
   "outputs": [],
   "source": []
  },
  {
   "cell_type": "code",
   "execution_count": 212,
   "metadata": {},
   "outputs": [
    {
     "data": {
      "text/plain": [
       "(tensor(0.4389, dtype=torch.float64), tensor(0.2103, dtype=torch.float64))"
      ]
     },
     "execution_count": 212,
     "metadata": {},
     "output_type": "execute_result"
    }
   ],
   "source": [
    "p0, p1"
   ]
  },
  {
   "cell_type": "code",
   "execution_count": null,
   "metadata": {},
   "outputs": [],
   "source": []
  },
  {
   "cell_type": "code",
   "execution_count": 213,
   "metadata": {},
   "outputs": [
    {
     "data": {
      "text/plain": [
       "tensor([0.2103, 0.4553, 0.6258, 0.3407, 0.9943], dtype=torch.float64,\n",
       "       grad_fn=<SelectBackward0>)"
      ]
     },
     "execution_count": 213,
     "metadata": {},
     "output_type": "execute_result"
    }
   ],
   "source": [
    "tpcpmps_output"
   ]
  }
 ],
 "metadata": {
  "kernelspec": {
   "display_name": "py310",
   "language": "python",
   "name": "python3"
  },
  "language_info": {
   "codemirror_mode": {
    "name": "ipython",
    "version": 3
   },
   "file_extension": ".py",
   "mimetype": "text/x-python",
   "name": "python",
   "nbconvert_exporter": "python",
   "pygments_lexer": "ipython3",
   "version": "3.10.13"
  }
 },
 "nbformat": 4,
 "nbformat_minor": 2
}
