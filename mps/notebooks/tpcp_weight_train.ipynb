{
 "cells": [
  {
   "cell_type": "code",
   "execution_count": 1,
   "metadata": {},
   "outputs": [],
   "source": [
    "import opt_einsum as oe\n",
    "import numpy as np\n",
    "import torch\n",
    "import sys\n",
    "sys.path.append(\"../../\")"
   ]
  },
  {
   "cell_type": "code",
   "execution_count": 2,
   "metadata": {},
   "outputs": [
    {
     "data": {
      "text/plain": [
       "<module 'mps.simple_mps' from '/Users/keisuke/Documents/presentation/QC_MPS/mps/notebooks/../../mps/simple_mps.py'>"
      ]
     },
     "execution_count": 2,
     "metadata": {},
     "output_type": "execute_result"
    }
   ],
   "source": [
    "from importlib import reload\n",
    "from mps import simple_mps, tpcp_mps\n",
    "reload(simple_mps)"
   ]
  },
  {
   "cell_type": "code",
   "execution_count": 3,
   "metadata": {},
   "outputs": [],
   "source": [
    "def filter_digits(dataset, allowed_digits=[0, 1]):\n",
    "    \"\"\"Return a subset of MNIST dataset containing only allowed_digits (0 or 1).\"\"\"\n",
    "    indices = []\n",
    "    for i in range(len(dataset)):\n",
    "        _, label = dataset[i]\n",
    "        if label in allowed_digits:\n",
    "            indices.append(i)\n",
    "    return torch.utils.data.Subset(dataset, indices)\n",
    "\n",
    "\n",
    "def filiter_single_channel(img: torch.Tensor) -> torch.Tensor:\n",
    "    \"\"\"\n",
    "    MNIST is loaded as shape [C, H, W].\n",
    "    Take only the first channel => shape [H, W].\n",
    "    \"\"\"\n",
    "    return img[0, ...]\n",
    "\n",
    "\n",
    "def embedding_pixel(batch, label: int = 0):\n",
    "    \"\"\"\n",
    "    Flatten each image from shape [H, W] => [H*W],\n",
    "    then embed x => [x, 1-x], and L2-normalize along last dim.\n",
    "    \"\"\"\n",
    "    pixel_size = batch.shape[-1] * batch.shape[-2]\n",
    "    x = batch.view(*batch.shape[:-2], pixel_size)\n",
    "    x = torch.stack([x, 1 - x], dim=-1)\n",
    "    x = x / torch.sum(x, dim=-1).unsqueeze(-1)\n",
    "    return x"
   ]
  },
  {
   "cell_type": "code",
   "execution_count": 4,
   "metadata": {},
   "outputs": [],
   "source": [
    "###############################################################################\n",
    "# Loss & Accuracy\n",
    "###############################################################################\n",
    "def loss_batch(outputs, labels):\n",
    "    \"\"\"\n",
    "    Binary cross-entropy style loss for outputs in [0, 1].\n",
    "    For label=0 => prob=outputs[i], else => 1 - outputs[i].\n",
    "    \"\"\"\n",
    "    device = outputs.device\n",
    "    loss = torch.zeros(1, device=device, dtype=torch.float64)\n",
    "    for i in range(len(outputs)):\n",
    "        prob = outputs[i] if labels[i] == 0 else (1 - outputs[i])\n",
    "        loss -= torch.log(prob + 1e-8)\n",
    "        # Start of Selection\n",
    "        if torch.isnan(loss):\n",
    "            print(f\"Loss is NaN at i={i}\")\n",
    "            print(prob, outputs[i], labels[i])\n",
    "    return loss\n",
    "\n",
    "\n",
    "def calculate_accuracy(outputs, labels):\n",
    "    \"\"\"\n",
    "    Threshold 0.5 => label 0 or 1. Compare to true labels.\n",
    "    \"\"\"\n",
    "    predictions = (outputs < 0.5).float()\n",
    "    correct = (predictions == labels).float().sum()\n",
    "    return correct / labels.numel()\n",
    "\n",
    "from torchvision import transforms\n",
    "import torchvision\n",
    "\n",
    "img_size = 16\n",
    "transform = transforms.Compose(\n",
    "    [\n",
    "        transforms.Resize(img_size),\n",
    "        transforms.ToTensor(),\n",
    "        transforms.Lambda(filiter_single_channel),\n",
    "        transforms.Lambda(embedding_pixel),\n",
    "        transforms.Lambda(lambda x: x.to(torch.float64)),  # double precision\n",
    "    ]\n",
    ")\n",
    "\n",
    "trainset = torchvision.datasets.MNIST(\n",
    "    root=\"data\", train=True, download=True, transform=transform\n",
    ")\n",
    "# Filter digits 0,1 only\n",
    "trainset = filter_digits(trainset, allowed_digits=[0, 1])\n",
    "\n",
    "batch_size = 128\n",
    "\n",
    "trainloader = torch.utils.data.DataLoader(\n",
    "    trainset, batch_size=batch_size, shuffle=False\n",
    ")\n"
   ]
  },
  {
   "cell_type": "code",
   "execution_count": 5,
   "metadata": {},
   "outputs": [
    {
     "name": "stdout",
     "output_type": "stream",
     "text": [
      "Path is not set, setting...\n",
      "Found the path\n",
      "Initialized MPS with random matrices\n"
     ]
    }
   ],
   "source": [
    "# ---------- Build MPS model ----------\n",
    "N = img_size * img_size\n",
    "d = l = 2 #data input dimension and class label dimension \n",
    "chi_umps = 2\n",
    "chi_max = 2\n",
    "reload(simple_mps)\n",
    "\n",
    "device = torch.device(\"cuda\") if torch.cuda.is_available() else torch.device(\"cpu\")\n",
    "smps = simple_mps.SimpleMPS(\n",
    "    N, \n",
    "    2,\n",
    "    d, \n",
    "    l, \n",
    "    layers=2,\n",
    "    device=device, \n",
    "    dtype=torch.float64, \n",
    "    optimize=\"greedy\",\n",
    ")\n"
   ]
  },
  {
   "cell_type": "code",
   "execution_count": 6,
   "metadata": {},
   "outputs": [
    {
     "name": "stdout",
     "output_type": "stream",
     "text": [
      "Train Epoch: 0 [0/12665 (0%)]\tLoss: 0.693380 Accuracy: 42.97%\n",
      "Train Epoch: 0 [128/12665 (1%)]\tLoss: 0.693088 Accuracy: 47.66%\n",
      "Train Epoch: 0 [256/12665 (2%)]\tLoss: 0.692907 Accuracy: 53.91%\n",
      "Train Epoch: 0 [384/12665 (3%)]\tLoss: 0.692651 Accuracy: 53.12%\n",
      "Train Epoch: 0 [512/12665 (4%)]\tLoss: 0.692105 Accuracy: 53.91%\n",
      "Train Epoch: 0 [640/12665 (5%)]\tLoss: 0.691262 Accuracy: 51.56%\n",
      "Train Epoch: 0 [768/12665 (6%)]\tLoss: 0.688629 Accuracy: 55.47%\n",
      "Train Epoch: 0 [896/12665 (7%)]\tLoss: 0.686424 Accuracy: 52.34%\n",
      "Train Epoch: 0 [1024/12665 (8%)]\tLoss: 0.683018 Accuracy: 49.22%\n",
      "Train Epoch: 0 [1152/12665 (9%)]\tLoss: 0.671369 Accuracy: 53.12%\n",
      "Train Epoch: 0 [1280/12665 (10%)]\tLoss: 0.652862 Accuracy: 54.69%\n",
      "Train Epoch: 0 [1408/12665 (11%)]\tLoss: 0.643309 Accuracy: 50.78%\n",
      "Train Epoch: 0 [1536/12665 (12%)]\tLoss: 0.600847 Accuracy: 57.03%\n",
      "Train Epoch: 0 [1664/12665 (13%)]\tLoss: 0.607812 Accuracy: 45.31%\n",
      "Train Epoch: 0 [1792/12665 (14%)]\tLoss: 0.448316 Accuracy: 62.50%\n",
      "Train Epoch: 0 [1920/12665 (15%)]\tLoss: 0.556803 Accuracy: 52.34%\n",
      "Train Epoch: 0 [2048/12665 (16%)]\tLoss: 0.619577 Accuracy: 45.31%\n",
      "Train Epoch: 0 [2176/12665 (17%)]\tLoss: 0.493634 Accuracy: 53.12%\n",
      "Train Epoch: 0 [2304/12665 (18%)]\tLoss: 0.467783 Accuracy: 55.47%\n",
      "Train Epoch: 0 [2432/12665 (19%)]\tLoss: 0.525273 Accuracy: 46.88%\n",
      "Train Epoch: 0 [2560/12665 (20%)]\tLoss: 0.464525 Accuracy: 56.25%\n",
      "Train Epoch: 0 [2688/12665 (21%)]\tLoss: 0.498498 Accuracy: 49.22%\n",
      "Train Epoch: 0 [2816/12665 (22%)]\tLoss: 0.447078 Accuracy: 54.69%\n",
      "Train Epoch: 0 [2944/12665 (23%)]\tLoss: 0.464165 Accuracy: 53.12%\n",
      "Train Epoch: 0 [3072/12665 (24%)]\tLoss: 0.399482 Accuracy: 58.59%\n",
      "Train Epoch: 0 [3200/12665 (25%)]\tLoss: 0.438300 Accuracy: 52.34%\n",
      "Train Epoch: 0 [3328/12665 (26%)]\tLoss: 0.430640 Accuracy: 52.34%\n",
      "Train Epoch: 0 [3456/12665 (27%)]\tLoss: 0.367207 Accuracy: 57.81%\n",
      "Train Epoch: 0 [3584/12665 (28%)]\tLoss: 0.367783 Accuracy: 58.59%\n",
      "Train Epoch: 0 [3712/12665 (29%)]\tLoss: 0.408274 Accuracy: 57.81%\n",
      "Train Epoch: 0 [3840/12665 (30%)]\tLoss: 0.357102 Accuracy: 59.38%\n",
      "Train Epoch: 0 [3968/12665 (31%)]\tLoss: 0.365995 Accuracy: 61.72%\n",
      "Train Epoch: 0 [4096/12665 (32%)]\tLoss: 0.375240 Accuracy: 72.66%\n",
      "Train Epoch: 0 [4224/12665 (33%)]\tLoss: 0.347924 Accuracy: 86.72%\n",
      "Train Epoch: 0 [4352/12665 (34%)]\tLoss: 0.367512 Accuracy: 79.69%\n",
      "Train Epoch: 0 [4480/12665 (35%)]\tLoss: 0.321474 Accuracy: 92.19%\n",
      "Train Epoch: 0 [4608/12665 (36%)]\tLoss: 0.343170 Accuracy: 81.25%\n",
      "Train Epoch: 0 [4736/12665 (37%)]\tLoss: 0.378336 Accuracy: 75.00%\n",
      "Train Epoch: 0 [4864/12665 (38%)]\tLoss: 0.317848 Accuracy: 86.72%\n",
      "Train Epoch: 0 [4992/12665 (39%)]\tLoss: 0.283388 Accuracy: 97.66%\n",
      "Train Epoch: 0 [5120/12665 (40%)]\tLoss: 0.264976 Accuracy: 96.88%\n",
      "Train Epoch: 0 [5248/12665 (41%)]\tLoss: 0.287292 Accuracy: 93.75%\n",
      "Train Epoch: 0 [5376/12665 (42%)]\tLoss: 0.264116 Accuracy: 96.09%\n",
      "Train Epoch: 0 [5504/12665 (43%)]\tLoss: 0.299542 Accuracy: 96.09%\n",
      "Train Epoch: 0 [5632/12665 (44%)]\tLoss: 0.211937 Accuracy: 99.22%\n",
      "Train Epoch: 0 [5760/12665 (45%)]\tLoss: 0.222654 Accuracy: 100.00%\n",
      "Train Epoch: 0 [5888/12665 (46%)]\tLoss: 0.185217 Accuracy: 99.22%\n",
      "Train Epoch: 0 [6016/12665 (47%)]\tLoss: 0.162523 Accuracy: 99.22%\n",
      "Train Epoch: 0 [6144/12665 (48%)]\tLoss: 0.098302 Accuracy: 98.44%\n",
      "Train Epoch: 0 [6272/12665 (49%)]\tLoss: 0.039280 Accuracy: 100.00%\n",
      "Train Epoch: 0 [6400/12665 (51%)]\tLoss: 0.047489 Accuracy: 98.44%\n",
      "Train Epoch: 0 [6528/12665 (52%)]\tLoss: 0.111772 Accuracy: 97.66%\n",
      "Train Epoch: 0 [6656/12665 (53%)]\tLoss: 0.041544 Accuracy: 98.44%\n",
      "Train Epoch: 0 [6784/12665 (54%)]\tLoss: 0.042638 Accuracy: 99.22%\n",
      "Train Epoch: 0 [6912/12665 (55%)]\tLoss: 0.030871 Accuracy: 99.22%\n",
      "Train Epoch: 0 [7040/12665 (56%)]\tLoss: 0.012337 Accuracy: 99.22%\n",
      "Train Epoch: 0 [7168/12665 (57%)]\tLoss: 0.012033 Accuracy: 99.22%\n",
      "Train Epoch: 0 [7296/12665 (58%)]\tLoss: 0.001145 Accuracy: 100.00%\n",
      "Train Epoch: 0 [7424/12665 (59%)]\tLoss: 0.000006 Accuracy: 100.00%\n",
      "Train Epoch: 0 [7552/12665 (60%)]\tLoss: 0.021539 Accuracy: 99.22%\n",
      "Train Epoch: 0 [7680/12665 (61%)]\tLoss: 0.000002 Accuracy: 100.00%\n",
      "Train Epoch: 0 [7808/12665 (62%)]\tLoss: 0.000003 Accuracy: 100.00%\n",
      "Train Epoch: 0 [7936/12665 (63%)]\tLoss: 0.173194 Accuracy: 99.22%\n",
      "Train Epoch: 0 [8064/12665 (64%)]\tLoss: 0.166657 Accuracy: 99.22%\n",
      "Train Epoch: 0 [8192/12665 (65%)]\tLoss: 0.000001 Accuracy: 100.00%\n",
      "Train Epoch: 0 [8320/12665 (66%)]\tLoss: 0.073696 Accuracy: 99.22%\n",
      "Train Epoch: 0 [8448/12665 (67%)]\tLoss: 0.090236 Accuracy: 99.22%\n",
      "Train Epoch: 0 [8576/12665 (68%)]\tLoss: 0.009253 Accuracy: 99.22%\n",
      "Train Epoch: 0 [8704/12665 (69%)]\tLoss: 0.007290 Accuracy: 99.22%\n",
      "Train Epoch: 0 [8832/12665 (70%)]\tLoss: 0.003033 Accuracy: 100.00%\n",
      "Train Epoch: 0 [8960/12665 (71%)]\tLoss: 0.000552 Accuracy: 100.00%\n",
      "Train Epoch: 0 [9088/12665 (72%)]\tLoss: 0.013449 Accuracy: 99.22%\n",
      "Train Epoch: 0 [9216/12665 (73%)]\tLoss: 0.081734 Accuracy: 99.22%\n",
      "Train Epoch: 0 [9344/12665 (74%)]\tLoss: 0.229856 Accuracy: 89.06%\n",
      "Train Epoch: 0 [9472/12665 (75%)]\tLoss: 0.024697 Accuracy: 99.22%\n",
      "Train Epoch: 0 [9600/12665 (76%)]\tLoss: 0.011546 Accuracy: 99.22%\n",
      "Train Epoch: 0 [9728/12665 (77%)]\tLoss: 0.017467 Accuracy: 99.22%\n",
      "Train Epoch: 0 [9856/12665 (78%)]\tLoss: 0.006282 Accuracy: 100.00%\n",
      "Train Epoch: 0 [9984/12665 (79%)]\tLoss: 0.010869 Accuracy: 100.00%\n",
      "Train Epoch: 0 [10112/12665 (80%)]\tLoss: 0.007901 Accuracy: 100.00%\n",
      "Train Epoch: 0 [10240/12665 (81%)]\tLoss: 0.011657 Accuracy: 100.00%\n",
      "Train Epoch: 0 [10368/12665 (82%)]\tLoss: 0.017381 Accuracy: 100.00%\n",
      "Train Epoch: 0 [10496/12665 (83%)]\tLoss: 0.016126 Accuracy: 100.00%\n",
      "Train Epoch: 0 [10624/12665 (84%)]\tLoss: 0.041070 Accuracy: 98.44%\n",
      "Train Epoch: 0 [10752/12665 (85%)]\tLoss: 0.011674 Accuracy: 100.00%\n",
      "Train Epoch: 0 [10880/12665 (86%)]\tLoss: 0.009482 Accuracy: 100.00%\n",
      "Train Epoch: 0 [11008/12665 (87%)]\tLoss: 0.016412 Accuracy: 99.22%\n",
      "Train Epoch: 0 [11136/12665 (88%)]\tLoss: 0.007578 Accuracy: 100.00%\n",
      "Train Epoch: 0 [11264/12665 (89%)]\tLoss: 0.002160 Accuracy: 100.00%\n",
      "Train Epoch: 0 [11392/12665 (90%)]\tLoss: 0.006941 Accuracy: 100.00%\n",
      "Train Epoch: 0 [11520/12665 (91%)]\tLoss: 0.010545 Accuracy: 99.22%\n",
      "Train Epoch: 0 [11648/12665 (92%)]\tLoss: 0.000797 Accuracy: 100.00%\n",
      "Train Epoch: 0 [11776/12665 (93%)]\tLoss: 0.000316 Accuracy: 100.00%\n",
      "Train Epoch: 0 [11904/12665 (94%)]\tLoss: 0.001165 Accuracy: 100.00%\n",
      "Train Epoch: 0 [12032/12665 (95%)]\tLoss: 0.001121 Accuracy: 100.00%\n",
      "Train Epoch: 0 [12160/12665 (96%)]\tLoss: 0.001547 Accuracy: 100.00%\n",
      "Train Epoch: 0 [12288/12665 (97%)]\tLoss: 0.095685 Accuracy: 98.44%\n",
      "Train Epoch: 0 [12416/12665 (98%)]\tLoss: 0.000020 Accuracy: 100.00%\n",
      "Train Epoch: 0 [11858/12665 (99%)]\tLoss: 0.000086 Accuracy: 100.00%\n"
     ]
    }
   ],
   "source": [
    "def accuracy(outputs, target):\n",
    "    return (outputs.argmax(dim=-1) == target).float().mean()\n",
    "losses = []\n",
    "running_loss = 0\n",
    "running_accuracy = 0\n",
    "logsoftmax = torch.nn.LogSoftmax(dim=-1)\n",
    "nnloss = torch.nn.NLLLoss(reduction=\"mean\")\n",
    "optimizer = torch.optim.Adam(smps.parameters(), lr=0.001)\n",
    "n_samples = 0\n",
    "for epoch in range(1):\n",
    "    for batch_idx, (data, target) in enumerate(trainloader):\n",
    "        target = target.to(device).to(torch.int64)\n",
    "        data = data.to(device).permute(1, 0, 2)\n",
    "        optimizer.zero_grad()\n",
    "        outputs = smps(data)\n",
    "        outputs = logsoftmax(outputs)\n",
    "        loss = nnloss(outputs, target)\n",
    "        loss.backward()\n",
    "        optimizer.step()\n",
    "\n",
    "        data_size = data.shape[1]\n",
    "        \n",
    "        # Calculate accuracy\n",
    "        # print(torch.exp(outputs[:10]), target[:10])\n",
    "        \n",
    "        running_loss += loss.item() * data_size\n",
    "        n_samples += data_size\n",
    "        \n",
    "        if batch_idx % 1 == 0:\n",
    "            avg_loss = running_loss / n_samples\n",
    "            avg_accuracy = accuracy(outputs, target)\n",
    "            losses.append(avg_loss)\n",
    "            running_loss = 0\n",
    "            running_accuracy = 0\n",
    "            n_samples = 0\n",
    "            print('Train Epoch: {} [{}/{} ({:.0f}%)]\\tLoss: {:.6f} Accuracy: {:.2f}%'.format(\n",
    "                epoch, batch_idx * data_size, len(trainloader.dataset),\n",
    "                100. * batch_idx / len(trainloader), avg_loss, avg_accuracy * 100))"
   ]
  },
  {
   "cell_type": "code",
   "execution_count": 14,
   "metadata": {},
   "outputs": [
    {
     "data": {
      "text/plain": [
       "tensor(1.)"
      ]
     },
     "execution_count": 14,
     "metadata": {},
     "output_type": "execute_result"
    }
   ],
   "source": [
    "from mps import tpcp_mps  \n",
    "from mps.trainer import utils\n",
    "\n",
    "reload(tpcp_mps)\n",
    "\n",
    "tpcp = tpcp_mps.MPSTPCP(N, K=1, d=2, with_probs=False, with_identity=True, manifold=tpcp_mps.ManifoldType.EXACT)\n",
    "\n",
    "W = torch.zeros(tpcp.L, 2, dtype=torch.float64)\n",
    "W[:, 0] = 1\n",
    "W[:, 1] = 0\n",
    "tpcp.initialize_W(W)\n",
    "\n",
    "tpcp.set_canonical_mps(smps)\n",
    "\n",
    "\n",
    "def accuracy(outputs, target):\n",
    "    correct = (outputs < 0).float() == target.float()\n",
    "    return correct.float().sum() / target.numel()\n",
    "\n",
    "data, target = next(iter(trainloader))\n",
    "out = tpcp(data)\n",
    "out = utils.to_probs(out)[:, 0]\n",
    "\n",
    "calculate_accuracy(out, target)"
   ]
  },
  {
   "cell_type": "code",
   "execution_count": 16,
   "metadata": {},
   "outputs": [
    {
     "name": "stdout",
     "output_type": "stream",
     "text": [
      "Loss:  34.54893323639706 Reg Weight:  0.6931471805599453 Loss with Weight:  34.618247954453054 Accuracy:  tensor(1.)\n"
     ]
    },
    {
     "ename": "AssertionError",
     "evalue": "weight must sum to 1, got tensor([0.9999, 0.0000], dtype=torch.float64, grad_fn=<SelectBackward0>)",
     "output_type": "error",
     "traceback": [
      "\u001b[0;31m---------------------------------------------------------------------------\u001b[0m",
      "\u001b[0;31mAssertionError\u001b[0m                            Traceback (most recent call last)",
      "Cell \u001b[0;32mIn[16], line 13\u001b[0m\n\u001b[1;32m     11\u001b[0m optimizer\u001b[38;5;241m.\u001b[39mzero_grad()\n\u001b[1;32m     12\u001b[0m optimizer_weight\u001b[38;5;241m.\u001b[39mzero_grad()\n\u001b[0;32m---> 13\u001b[0m outputs \u001b[38;5;241m=\u001b[39m \u001b[43mtpcp\u001b[49m\u001b[43m(\u001b[49m\u001b[43mdata\u001b[49m\u001b[43m)\u001b[49m\n\u001b[1;32m     14\u001b[0m outputs \u001b[38;5;241m=\u001b[39m utils\u001b[38;5;241m.\u001b[39mto_probs(outputs)[:, \u001b[38;5;241m0\u001b[39m]\n\u001b[1;32m     15\u001b[0m loss \u001b[38;5;241m=\u001b[39m loss_batch(outputs, target)\n",
      "File \u001b[0;32m~/miniconda3/envs/py310/lib/python3.10/site-packages/torch/nn/modules/module.py:1739\u001b[0m, in \u001b[0;36mModule._wrapped_call_impl\u001b[0;34m(self, *args, **kwargs)\u001b[0m\n\u001b[1;32m   1737\u001b[0m     \u001b[38;5;28;01mreturn\u001b[39;00m \u001b[38;5;28mself\u001b[39m\u001b[38;5;241m.\u001b[39m_compiled_call_impl(\u001b[38;5;241m*\u001b[39margs, \u001b[38;5;241m*\u001b[39m\u001b[38;5;241m*\u001b[39mkwargs)  \u001b[38;5;66;03m# type: ignore[misc]\u001b[39;00m\n\u001b[1;32m   1738\u001b[0m \u001b[38;5;28;01melse\u001b[39;00m:\n\u001b[0;32m-> 1739\u001b[0m     \u001b[38;5;28;01mreturn\u001b[39;00m \u001b[38;5;28;43mself\u001b[39;49m\u001b[38;5;241;43m.\u001b[39;49m\u001b[43m_call_impl\u001b[49m\u001b[43m(\u001b[49m\u001b[38;5;241;43m*\u001b[39;49m\u001b[43margs\u001b[49m\u001b[43m,\u001b[49m\u001b[43m \u001b[49m\u001b[38;5;241;43m*\u001b[39;49m\u001b[38;5;241;43m*\u001b[39;49m\u001b[43mkwargs\u001b[49m\u001b[43m)\u001b[49m\n",
      "File \u001b[0;32m~/miniconda3/envs/py310/lib/python3.10/site-packages/torch/nn/modules/module.py:1750\u001b[0m, in \u001b[0;36mModule._call_impl\u001b[0;34m(self, *args, **kwargs)\u001b[0m\n\u001b[1;32m   1745\u001b[0m \u001b[38;5;66;03m# If we don't have any hooks, we want to skip the rest of the logic in\u001b[39;00m\n\u001b[1;32m   1746\u001b[0m \u001b[38;5;66;03m# this function, and just call forward.\u001b[39;00m\n\u001b[1;32m   1747\u001b[0m \u001b[38;5;28;01mif\u001b[39;00m \u001b[38;5;129;01mnot\u001b[39;00m (\u001b[38;5;28mself\u001b[39m\u001b[38;5;241m.\u001b[39m_backward_hooks \u001b[38;5;129;01mor\u001b[39;00m \u001b[38;5;28mself\u001b[39m\u001b[38;5;241m.\u001b[39m_backward_pre_hooks \u001b[38;5;129;01mor\u001b[39;00m \u001b[38;5;28mself\u001b[39m\u001b[38;5;241m.\u001b[39m_forward_hooks \u001b[38;5;129;01mor\u001b[39;00m \u001b[38;5;28mself\u001b[39m\u001b[38;5;241m.\u001b[39m_forward_pre_hooks\n\u001b[1;32m   1748\u001b[0m         \u001b[38;5;129;01mor\u001b[39;00m _global_backward_pre_hooks \u001b[38;5;129;01mor\u001b[39;00m _global_backward_hooks\n\u001b[1;32m   1749\u001b[0m         \u001b[38;5;129;01mor\u001b[39;00m _global_forward_hooks \u001b[38;5;129;01mor\u001b[39;00m _global_forward_pre_hooks):\n\u001b[0;32m-> 1750\u001b[0m     \u001b[38;5;28;01mreturn\u001b[39;00m \u001b[43mforward_call\u001b[49m\u001b[43m(\u001b[49m\u001b[38;5;241;43m*\u001b[39;49m\u001b[43margs\u001b[49m\u001b[43m,\u001b[49m\u001b[43m \u001b[49m\u001b[38;5;241;43m*\u001b[39;49m\u001b[38;5;241;43m*\u001b[39;49m\u001b[43mkwargs\u001b[49m\u001b[43m)\u001b[49m\n\u001b[1;32m   1752\u001b[0m result \u001b[38;5;241m=\u001b[39m \u001b[38;5;28;01mNone\u001b[39;00m\n\u001b[1;32m   1753\u001b[0m called_always_called_hooks \u001b[38;5;241m=\u001b[39m \u001b[38;5;28mset\u001b[39m()\n",
      "File \u001b[0;32m~/Documents/presentation/QC_MPS/mps/notebooks/../../mps/tpcp_mps.py:220\u001b[0m, in \u001b[0;36mMPSTPCP.forward\u001b[0;34m(self, X, normalize)\u001b[0m\n\u001b[1;32m    217\u001b[0m rho \u001b[38;5;241m=\u001b[39m \u001b[38;5;28mself\u001b[39m\u001b[38;5;241m.\u001b[39mforward_layer(rho, kraus_ops)\n\u001b[1;32m    219\u001b[0m \u001b[38;5;28;01mif\u001b[39;00m i \u001b[38;5;241m<\u001b[39m \u001b[38;5;28mself\u001b[39m\u001b[38;5;241m.\u001b[39mL \u001b[38;5;241m-\u001b[39m \u001b[38;5;241m1\u001b[39m:\n\u001b[0;32m--> 220\u001b[0m     rho \u001b[38;5;241m=\u001b[39m \u001b[38;5;28;43mself\u001b[39;49m\u001b[38;5;241;43m.\u001b[39;49m\u001b[43mpartial\u001b[49m\u001b[43m(\u001b[49m\u001b[43mrho\u001b[49m\u001b[43m,\u001b[49m\u001b[43m \u001b[49m\u001b[38;5;241;43m0\u001b[39;49m\u001b[43m,\u001b[49m\u001b[43m \u001b[49m\u001b[38;5;28;43mself\u001b[39;49m\u001b[38;5;241;43m.\u001b[39;49m\u001b[43mW\u001b[49m\u001b[43m[\u001b[49m\u001b[43mi\u001b[49m\u001b[43m]\u001b[49m\u001b[43m)\u001b[49m\n\u001b[1;32m    221\u001b[0m     next_rho \u001b[38;5;241m=\u001b[39m \u001b[38;5;28mself\u001b[39m\u001b[38;5;241m.\u001b[39mget_rho(X[:, i \u001b[38;5;241m+\u001b[39m \u001b[38;5;241m2\u001b[39m])\n\u001b[1;32m    222\u001b[0m     rho \u001b[38;5;241m=\u001b[39m \u001b[38;5;28mself\u001b[39m\u001b[38;5;241m.\u001b[39mtensor_product(rho, next_rho)\n",
      "File \u001b[0;32m~/Documents/presentation/QC_MPS/mps/notebooks/../../mps/tpcp_mps.py:314\u001b[0m, in \u001b[0;36mMPSTPCP.partial\u001b[0;34m(self, rho, site, weight)\u001b[0m\n\u001b[1;32m    312\u001b[0m \u001b[38;5;28;01mimport\u001b[39;00m \u001b[38;5;21;01mnumpy\u001b[39;00m \u001b[38;5;28;01mas\u001b[39;00m \u001b[38;5;21;01mnp\u001b[39;00m\n\u001b[1;32m    313\u001b[0m \u001b[38;5;28;01mif\u001b[39;00m weight \u001b[38;5;129;01mis\u001b[39;00m \u001b[38;5;129;01mnot\u001b[39;00m \u001b[38;5;28;01mNone\u001b[39;00m:\n\u001b[0;32m--> 314\u001b[0m     \u001b[38;5;28;01massert\u001b[39;00m np\u001b[38;5;241m.\u001b[39misclose(np\u001b[38;5;241m.\u001b[39mlinalg\u001b[38;5;241m.\u001b[39mnorm(weight\u001b[38;5;241m.\u001b[39mdetach()\u001b[38;5;241m.\u001b[39mcpu()\u001b[38;5;241m.\u001b[39mnumpy()), \u001b[38;5;241m1.0\u001b[39m, atol\u001b[38;5;241m=\u001b[39m\u001b[38;5;241m1e-10\u001b[39m), \u001b[38;5;124mf\u001b[39m\u001b[38;5;124m\"\u001b[39m\u001b[38;5;124mweight must sum to 1, got \u001b[39m\u001b[38;5;132;01m{\u001b[39;00mweight\u001b[38;5;132;01m}\u001b[39;00m\u001b[38;5;124m\"\u001b[39m\n\u001b[1;32m    315\u001b[0m \u001b[38;5;66;03m# print(weight.norm() - 1)\u001b[39;00m\n\u001b[1;32m    316\u001b[0m \n\u001b[1;32m    317\u001b[0m \u001b[38;5;66;03m# Reshape => (batch_size, d, d, d, d)\u001b[39;00m\n\u001b[1;32m    318\u001b[0m \u001b[38;5;66;03m# We can call these indices: (n, a, b, c, d).\u001b[39;00m\n\u001b[1;32m    319\u001b[0m \u001b[38;5;66;03m# But we'll just match your original naming pattern:\u001b[39;00m\n\u001b[1;32m    320\u001b[0m rho_reshaped \u001b[38;5;241m=\u001b[39m rho\u001b[38;5;241m.\u001b[39mreshape(batch_size, \u001b[38;5;28mself\u001b[39m\u001b[38;5;241m.\u001b[39md, \u001b[38;5;28mself\u001b[39m\u001b[38;5;241m.\u001b[39md, \u001b[38;5;28mself\u001b[39m\u001b[38;5;241m.\u001b[39md, \u001b[38;5;28mself\u001b[39m\u001b[38;5;241m.\u001b[39md)\n",
      "\u001b[0;31mAssertionError\u001b[0m: weight must sum to 1, got tensor([0.9999, 0.0000], dtype=torch.float64, grad_fn=<SelectBackward0>)"
     ]
    }
   ],
   "source": [
    "from mps.StiefelOptimizers import StiefelAdam\n",
    "from mps.radam import RiemannianAdam\n",
    "optimizer = RiemannianAdam(tpcp.kraus_ops.parameters(), lr=0.0001, betas=(0.9, 0.999))\n",
    "optimizer_weight = torch.optim.Adam([tpcp.W, tpcp.r], lr=0.0001)\n",
    "# optimzier = StiefelAdam(tpcp.parameters(), lr=0.0001, expm_method=\"ForwardEuler\")\n",
    "epochs = 100\n",
    "for epoch in range(epochs):\n",
    "    acc_tot = 0\n",
    "    loss_tot = 0\n",
    "    for data, target in trainloader:\n",
    "        optimizer.zero_grad()\n",
    "        optimizer_weight.zero_grad()\n",
    "        outputs = tpcp(data)\n",
    "        outputs = utils.to_probs(outputs)[:, 0]\n",
    "        loss = loss_batch(outputs, target)\n",
    "        reg_weight = tpcp_mps.regularize_weight(tpcp.W)\n",
    "        loss_with_weight = loss + reg_weight * 0.1\n",
    "        loss_with_weight.backward()\n",
    "        optimizer.step()\n",
    "        optimizer_weight.step()\n",
    "        tpcp.normalize_w_and_r()\n",
    "        acc = calculate_accuracy(outputs, target)\n",
    "        acc_tot += acc\n",
    "        loss_tot += loss.item()\n",
    "        print(\"Loss: \", loss.item(), \"Reg Weight: \", reg_weight.item(), \"Loss with Weight: \", loss_with_weight.item(), \"Accuracy: \", acc)\n",
    "\n",
    "    print(f\"Epoch {epoch} / {epochs} / Loss: {loss_tot / len(trainloader)} / Accuracy: {acc_tot / len(trainloader)}\")\n"
   ]
  },
  {
   "cell_type": "code",
   "execution_count": 104,
   "metadata": {},
   "outputs": [
    {
     "ename": "AssertionError",
     "evalue": "Number of qubits must match",
     "output_type": "error",
     "traceback": [
      "\u001b[0;31m---------------------------------------------------------------------------\u001b[0m",
      "\u001b[0;31mAssertionError\u001b[0m                            Traceback (most recent call last)",
      "Cell \u001b[0;32mIn[104], line 1\u001b[0m\n\u001b[0;32m----> 1\u001b[0m out \u001b[38;5;241m=\u001b[39m \u001b[43msmps\u001b[49m\u001b[43m(\u001b[49m\u001b[43mdata\u001b[49m\u001b[43m)\u001b[49m\n\u001b[1;32m      2\u001b[0m out \u001b[38;5;241m=\u001b[39m logsoftmax(out)\n\u001b[1;32m      3\u001b[0m out\n",
      "File \u001b[0;32m~/miniconda3/envs/py310/lib/python3.10/site-packages/torch/nn/modules/module.py:1739\u001b[0m, in \u001b[0;36mModule._wrapped_call_impl\u001b[0;34m(self, *args, **kwargs)\u001b[0m\n\u001b[1;32m   1737\u001b[0m     \u001b[38;5;28;01mreturn\u001b[39;00m \u001b[38;5;28mself\u001b[39m\u001b[38;5;241m.\u001b[39m_compiled_call_impl(\u001b[38;5;241m*\u001b[39margs, \u001b[38;5;241m*\u001b[39m\u001b[38;5;241m*\u001b[39mkwargs)  \u001b[38;5;66;03m# type: ignore[misc]\u001b[39;00m\n\u001b[1;32m   1738\u001b[0m \u001b[38;5;28;01melse\u001b[39;00m:\n\u001b[0;32m-> 1739\u001b[0m     \u001b[38;5;28;01mreturn\u001b[39;00m \u001b[38;5;28;43mself\u001b[39;49m\u001b[38;5;241;43m.\u001b[39;49m\u001b[43m_call_impl\u001b[49m\u001b[43m(\u001b[49m\u001b[38;5;241;43m*\u001b[39;49m\u001b[43margs\u001b[49m\u001b[43m,\u001b[49m\u001b[43m \u001b[49m\u001b[38;5;241;43m*\u001b[39;49m\u001b[38;5;241;43m*\u001b[39;49m\u001b[43mkwargs\u001b[49m\u001b[43m)\u001b[49m\n",
      "File \u001b[0;32m~/miniconda3/envs/py310/lib/python3.10/site-packages/torch/nn/modules/module.py:1750\u001b[0m, in \u001b[0;36mModule._call_impl\u001b[0;34m(self, *args, **kwargs)\u001b[0m\n\u001b[1;32m   1745\u001b[0m \u001b[38;5;66;03m# If we don't have any hooks, we want to skip the rest of the logic in\u001b[39;00m\n\u001b[1;32m   1746\u001b[0m \u001b[38;5;66;03m# this function, and just call forward.\u001b[39;00m\n\u001b[1;32m   1747\u001b[0m \u001b[38;5;28;01mif\u001b[39;00m \u001b[38;5;129;01mnot\u001b[39;00m (\u001b[38;5;28mself\u001b[39m\u001b[38;5;241m.\u001b[39m_backward_hooks \u001b[38;5;129;01mor\u001b[39;00m \u001b[38;5;28mself\u001b[39m\u001b[38;5;241m.\u001b[39m_backward_pre_hooks \u001b[38;5;129;01mor\u001b[39;00m \u001b[38;5;28mself\u001b[39m\u001b[38;5;241m.\u001b[39m_forward_hooks \u001b[38;5;129;01mor\u001b[39;00m \u001b[38;5;28mself\u001b[39m\u001b[38;5;241m.\u001b[39m_forward_pre_hooks\n\u001b[1;32m   1748\u001b[0m         \u001b[38;5;129;01mor\u001b[39;00m _global_backward_pre_hooks \u001b[38;5;129;01mor\u001b[39;00m _global_backward_hooks\n\u001b[1;32m   1749\u001b[0m         \u001b[38;5;129;01mor\u001b[39;00m _global_forward_hooks \u001b[38;5;129;01mor\u001b[39;00m _global_forward_pre_hooks):\n\u001b[0;32m-> 1750\u001b[0m     \u001b[38;5;28;01mreturn\u001b[39;00m \u001b[43mforward_call\u001b[49m\u001b[43m(\u001b[49m\u001b[38;5;241;43m*\u001b[39;49m\u001b[43margs\u001b[49m\u001b[43m,\u001b[49m\u001b[43m \u001b[49m\u001b[38;5;241;43m*\u001b[39;49m\u001b[38;5;241;43m*\u001b[39;49m\u001b[43mkwargs\u001b[49m\u001b[43m)\u001b[49m\n\u001b[1;32m   1752\u001b[0m result \u001b[38;5;241m=\u001b[39m \u001b[38;5;28;01mNone\u001b[39;00m\n\u001b[1;32m   1753\u001b[0m called_always_called_hooks \u001b[38;5;241m=\u001b[39m \u001b[38;5;28mset\u001b[39m()\n",
      "File \u001b[0;32m~/Documents/presentation/QC_MPS/mps/notebooks/../../mps/simple_mps.py:252\u001b[0m, in \u001b[0;36mSimpleMPS.forward\u001b[0;34m(self, X)\u001b[0m\n\u001b[1;32m    250\u001b[0m \u001b[38;5;28;01mdef\u001b[39;00m \u001b[38;5;21mforward\u001b[39m(\u001b[38;5;28mself\u001b[39m, X: torch\u001b[38;5;241m.\u001b[39mTensor):\n\u001b[1;32m    251\u001b[0m     X \u001b[38;5;241m=\u001b[39m X\u001b[38;5;241m.\u001b[39mto(\u001b[38;5;28mself\u001b[39m\u001b[38;5;241m.\u001b[39mdevice)\u001b[38;5;241m.\u001b[39mto(\u001b[38;5;28mself\u001b[39m\u001b[38;5;241m.\u001b[39mdtype)\n\u001b[0;32m--> 252\u001b[0m     \u001b[38;5;28;01massert\u001b[39;00m X\u001b[38;5;241m.\u001b[39mshape[\u001b[38;5;241m0\u001b[39m] \u001b[38;5;241m==\u001b[39m \u001b[38;5;28mself\u001b[39m\u001b[38;5;241m.\u001b[39mN, \u001b[38;5;124m\"\u001b[39m\u001b[38;5;124mNumber of qubits must match\u001b[39m\u001b[38;5;124m\"\u001b[39m\n\u001b[1;32m    253\u001b[0m     \u001b[38;5;28;01mfor\u001b[39;00m i \u001b[38;5;129;01min\u001b[39;00m \u001b[38;5;28mrange\u001b[39m(\u001b[38;5;28mself\u001b[39m\u001b[38;5;241m.\u001b[39mN):\n\u001b[1;32m    254\u001b[0m         \u001b[38;5;28mself\u001b[39m\u001b[38;5;241m.\u001b[39mops[\u001b[38;5;28mself\u001b[39m\u001b[38;5;241m.\u001b[39mleft_qubit_inds[i]] \u001b[38;5;241m=\u001b[39m X[i]\n",
      "\u001b[0;31mAssertionError\u001b[0m: Number of qubits must match"
     ]
    }
   ],
   "source": [
    "out = smps(data)\n",
    "out = logsoftmax(out)\n",
    "out\n"
   ]
  },
  {
   "cell_type": "code",
   "execution_count": null,
   "metadata": {},
   "outputs": [],
   "source": []
  },
  {
   "cell_type": "code",
   "execution_count": 108,
   "metadata": {},
   "outputs": [
    {
     "data": {
      "text/plain": [
       "tensor([1., 1., 1., 1., 1., 1., 0., 0., 1., 1., 0., 1., 1., 1., 0., 1., 0., 0.,\n",
       "        1., 1., 0., 0., 0., 1., 0., 0., 1., 1., 1., 1., 0., 0., 0., 1., 1., 1.,\n",
       "        1., 1., 1., 0., 1., 1., 1., 0., 1., 1., 0., 1., 1., 0., 1., 0., 0., 1.,\n",
       "        0., 1., 0., 1., 0., 1., 1., 1., 1., 1., 1., 0., 1., 1., 1., 1., 1., 1.,\n",
       "        1., 1., 0., 1., 0., 0., 1., 1., 1., 1., 1., 0., 0., 0., 1., 1., 1., 1.,\n",
       "        1., 1., 0., 0., 1., 1., 1., 0., 0., 0., 0., 1., 0., 1., 0., 0., 1., 1.,\n",
       "        0., 0., 1., 0., 1., 0., 1., 1., 1., 0., 1., 1., 0., 0., 1., 1., 1., 0.,\n",
       "        1., 1.], dtype=torch.float64, grad_fn=<AddBackward0>)"
      ]
     },
     "execution_count": 108,
     "metadata": {},
     "output_type": "execute_result"
    }
   ],
   "source": [
    "out = tpcp(data.permute(1, 0, 2))\n",
    "\n",
    "# loss_batch(out, target)\n",
    "(torch.sgn(out) + 1) / 2 + target\n"
   ]
  },
  {
   "cell_type": "code",
   "execution_count": null,
   "metadata": {},
   "outputs": [],
   "source": []
  }
 ],
 "metadata": {
  "kernelspec": {
   "display_name": "py310",
   "language": "python",
   "name": "python3"
  },
  "language_info": {
   "codemirror_mode": {
    "name": "ipython",
    "version": 3
   },
   "file_extension": ".py",
   "mimetype": "text/x-python",
   "name": "python",
   "nbconvert_exporter": "python",
   "pygments_lexer": "ipython3",
   "version": "3.10.13"
  }
 },
 "nbformat": 4,
 "nbformat_minor": 2
}
