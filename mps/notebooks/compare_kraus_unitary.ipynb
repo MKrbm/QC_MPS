{
 "cells": [
  {
   "cell_type": "code",
   "execution_count": 1,
   "metadata": {},
   "outputs": [],
   "source": [
    "import pytest\n",
    "import torch\n",
    "import random\n",
    "import numpy as np\n",
    "\n",
    "import geoopt\n",
    "import sys\n",
    "sys.path.append(\"..\")\n",
    "\n",
    "from umps import uMPS\n",
    "from tpcp_mps import MPSTPCP\n",
    "import unitary_optimizer\n",
    "from tpcp_mps import ManifoldType\n",
    "\n",
    "\n"
   ]
  },
  {
   "cell_type": "code",
   "execution_count": 2,
   "metadata": {},
   "outputs": [],
   "source": [
    "# Define the loss and accuracy functions as provided\n",
    "def loss_batch(outputs, labels):\n",
    "    device = outputs.device\n",
    "    loss = torch.zeros(1, device=device, dtype=torch.float64)\n",
    "    for i in range(len(outputs)):\n",
    "        # For each sample, if label==0 then probability=outputs[i], else 1-outputs[i]\n",
    "        prob = outputs[i] if labels[i] == 0 else 1 - outputs[i]\n",
    "        loss -= torch.log(prob + 1e-8)\n",
    "    return loss\n",
    "\n",
    "def calculate_accuracy(outputs, labels):\n",
    "    predictions = (outputs < 0.5).float()  # output < 0.5 means prediction of 1 (or vice versa)\n",
    "    correct = (predictions == labels).float().sum()\n",
    "    accuracy = correct / labels.numel()\n",
    "    return accuracy.item()\n",
    "\n",
    "# Integration test marked with @pytest.mark.integtest"
   ]
  },
  {
   "cell_type": "code",
   "execution_count": 3,
   "metadata": {},
   "outputs": [
    {
     "name": "stdout",
     "output_type": "stream",
     "text": [
      "Path is not set, setting...\n",
      "Found the path\n",
      "Initialized MPS params\n"
     ]
    }
   ],
   "source": [
    "\n",
    "# Fix random seeds for reproducibility.\n",
    "torch.manual_seed(42)\n",
    "np.random.seed(42)\n",
    "random.seed(42)\n",
    "\n",
    "# Dataset parameters\n",
    "N = 2       # number of qubits per data sample\n",
    "bs = 3      # batch size\n",
    "\n",
    "# Generate random input data with shape (N, bs, 2) and normalize the 2D vectors.\n",
    "data = torch.randn(bs, N, 2, dtype=torch.float64)\n",
    "data = data / torch.norm(data, dim=-1, keepdim=True)\n",
    "target = torch.randint(0, 2, (bs,), dtype=torch.float64)\n",
    "\n",
    "chi = 2\n",
    "layers = 1\n",
    "umps_model = uMPS(N=N, chi=chi, d=2, l=2, layers=layers, device=torch.device(\"cpu\"), init_with_identity=True)\n",
    "mpstpcp_model = MPSTPCP(N=N, K=1, d=2, with_identity=True, manifold=ManifoldType.EXACT)"
   ]
  },
  {
   "cell_type": "code",
   "execution_count": 16,
   "metadata": {},
   "outputs": [],
   "source": [
    "with torch.no_grad():\n",
    "  mpstpcp_model.kraus_ops[0].copy_(torch.randn(4, 4, dtype=torch.float64))"
   ]
  },
  {
   "cell_type": "code",
   "execution_count": 19,
   "metadata": {},
   "outputs": [
    {
     "data": {
      "text/plain": [
       "True"
      ]
     },
     "execution_count": 19,
     "metadata": {},
     "output_type": "execute_result"
    }
   ],
   "source": [
    "mpstpcp_model.manifold.check_point_on_manifold(mpstpcp_model.kraus_ops[0])"
   ]
  },
  {
   "cell_type": "code",
   "execution_count": 18,
   "metadata": {},
   "outputs": [],
   "source": [
    "mpstpcp_model.proj_stiefel(check_on_manifold=True)"
   ]
  },
  {
   "cell_type": "code",
   "execution_count": 3,
   "metadata": {},
   "outputs": [
    {
     "name": "stdout",
     "output_type": "stream",
     "text": [
      "Path is not set, setting...\n",
      "Found the path\n",
      "Initialized MPS params\n"
     ]
    }
   ],
   "source": [
    "# Fix random seeds for reproducibility.\n",
    "torch.manual_seed(42)\n",
    "np.random.seed(42)\n",
    "random.seed(42)\n",
    "\n",
    "# Dataset parameters\n",
    "N = 2       # number of qubits per data sample\n",
    "bs = 3      # batch size\n",
    "\n",
    "# Generate random input data with shape (N, bs, 2) and normalize the 2D vectors.\n",
    "data = torch.randn(bs, N, 2, dtype=torch.float64)\n",
    "data = data / torch.norm(data, dim=-1, keepdim=True)\n",
    "target = torch.randint(0, 2, (bs,), dtype=torch.float64)\n",
    "\n",
    "chi = 2\n",
    "layers = 1\n",
    "umps_model = uMPS(N=N, chi=chi, d=2, l=2, layers=layers, device=torch.device(\"cpu\"), init_with_identity=True)\n",
    "mpstpcp_model = MPSTPCP(N=N, K=1, d=2, with_identity=True, manifold=ManifoldType.EXACT)\n",
    "\n",
    "# Assert if both models return the same outputs for data\n",
    "assert torch.allclose(umps_model(data.permute(1, 0, 2)), mpstpcp_model(data), atol=1e-6), \\\n",
    "    \"The outputs of uMPS and MPSTPCP models do not match.\"\n",
    "lr = 0.1\n",
    "optimizer_umps = unitary_optimizer.SGD(umps_model, lr=lr)\n",
    "optimizer_mpstpcp = geoopt.optim.RiemannianSGD(mpstpcp_model.parameters(), lr=lr)\n",
    "\n",
    "# Number of epochs (randomly chosen between 5 and 10)\n",
    "# Set both models to train mode.\n",
    "umps_model.train()\n",
    "mpstpcp_model.train()\n",
    "\n",
    "# For uMPS, the expected input shape is (N, bs, 2); for MPSTPCP it is (bs, N, 2).\n",
    "# Prepare inputs accordingly.\n",
    "input_for_umps = data.permute(1, 0, 2)  # shape (N, bs, 2)\n",
    "input_for_tpcp = data  # shape (bs, N, 2)\n",
    "\n",
    "# Zero the gradients\n",
    "optimizer_umps.zero_grad()\n",
    "optimizer_mpstpcp.zero_grad()\n",
    "\n",
    "# Forward pass\n",
    "outputs_umps = umps_model(input_for_umps)\n",
    "outputs_tpcp = mpstpcp_model(input_for_tpcp)\n",
    "\n",
    "# Compute loss for each model.\n",
    "loss_umps = loss_batch(outputs_umps, target)\n",
    "loss_tpcp = loss_batch(outputs_tpcp, target)\n",
    "\n",
    "# print(loss_umps)\n",
    "# print(loss_tpcp)\n",
    "\n",
    "# # Backward pass and parameter update.\n",
    "loss_umps.backward()\n",
    "loss_tpcp.backward()\n",
    "# optimizer_umps.step()\n",
    "# optimizer_mpstpcp.step()"
   ]
  },
  {
   "cell_type": "code",
   "execution_count": 23,
   "metadata": {},
   "outputs": [
    {
     "name": "stdout",
     "output_type": "stream",
     "text": [
      "tensor([[ 0.0000,  1.9855,  0.0000, -0.0674],\n",
      "        [-1.9855,  0.0000,  0.0674,  0.0000],\n",
      "        [ 0.0000, -0.0674,  0.0000, -0.2032],\n",
      "        [ 0.0674,  0.0000,  0.2032,  0.0000]], dtype=torch.float64,\n",
      "       grad_fn=<DivBackward0>)\n",
      "tensor([[ 0.0000, -1.9855,  0.0000,  0.0674],\n",
      "        [ 1.9855,  0.0000, -0.0674,  0.0000],\n",
      "        [ 0.0000,  0.0674,  0.0000,  0.2032],\n",
      "        [-0.0674,  0.0000, -0.2032,  0.0000]], dtype=torch.float64,\n",
      "       grad_fn=<SubBackward0>)\n"
     ]
    }
   ],
   "source": [
    "u_mps = umps_model.params[0].reshape(4,4)\n",
    "rg_mps = unitary_optimizer.riemannian_gradient(u_mps, umps_model.params[0].grad.reshape(4,4))\n",
    "\n",
    "u_tpcp = mpstpcp_model.kraus_ops[0]\n",
    "rg_tpcp = u_tpcp.manifold.egrad2rgrad(u_tpcp, u_tpcp.grad)\n",
    "print(rg_mps)\n",
    "print(rg_tpcp)"
   ]
  },
  {
   "cell_type": "code",
   "execution_count": 27,
   "metadata": {},
   "outputs": [
    {
     "name": "stdout",
     "output_type": "stream",
     "text": [
      "tensor([[ 9.8033e-01,  1.9725e-01,  5.9838e-04, -6.6969e-03],\n",
      "        [-1.9725e-01,  9.8033e-01,  6.6969e-03,  5.9838e-04],\n",
      "        [ 5.9838e-04, -6.6969e-03,  9.9977e-01, -2.0319e-02],\n",
      "        [ 6.6969e-03,  5.9838e-04,  2.0319e-02,  9.9977e-01]],\n",
      "       dtype=torch.float64, grad_fn=<MmBackward0>)\n",
      "tensor([[ 9.8033e-01,  1.9725e-01,  5.9838e-04, -6.6969e-03],\n",
      "        [-1.9725e-01,  9.8033e-01,  6.6969e-03,  5.9838e-04],\n",
      "        [ 5.9838e-04, -6.6969e-03,  9.9977e-01, -2.0319e-02],\n",
      "        [ 6.6969e-03,  5.9838e-04,  2.0319e-02,  9.9977e-01]],\n",
      "       dtype=torch.float64, grad_fn=<MmBackward0>)\n"
     ]
    }
   ],
   "source": [
    "new_u_tpcp = u_tpcp.manifold.retr(u_tpcp, -rg_tpcp * 0.1)\n",
    "new_u_mps = unitary_optimizer.exp_map(u_mps, rg_mps.T * 0.1)\n",
    "\n",
    "print(new_u_tpcp)\n",
    "print(new_u_mps)"
   ]
  },
  {
   "cell_type": "code",
   "execution_count": 12,
   "metadata": {},
   "outputs": [],
   "source": [
    "optimizer_umps.step()\n",
    "optimizer_mpstpcp.step()"
   ]
  },
  {
   "cell_type": "code",
   "execution_count": 14,
   "metadata": {},
   "outputs": [
    {
     "data": {
      "text/plain": [
       "tensor([[ 9.8033e-01, -1.9725e-01,  5.9838e-04,  6.6969e-03],\n",
       "        [ 1.9725e-01,  9.8033e-01, -6.6969e-03,  5.9838e-04],\n",
       "        [ 5.9838e-04,  6.6969e-03,  9.9977e-01,  2.0319e-02],\n",
       "        [-6.6969e-03,  5.9838e-04, -2.0319e-02,  9.9977e-01]],\n",
       "       dtype=torch.float64, grad_fn=<ViewBackward0>)"
      ]
     },
     "execution_count": 14,
     "metadata": {},
     "output_type": "execute_result"
    }
   ],
   "source": [
    "umps_model.params[0].reshape(4,4)"
   ]
  },
  {
   "cell_type": "code",
   "execution_count": 15,
   "metadata": {},
   "outputs": [
    {
     "data": {
      "text/plain": [
       "tensor([[ 9.8033e-01,  1.9725e-01,  5.9838e-04, -6.6969e-03],\n",
       "        [-1.9725e-01,  9.8033e-01,  6.6969e-03,  5.9838e-04],\n",
       "        [ 5.9838e-04, -6.6969e-03,  9.9977e-01, -2.0319e-02],\n",
       "        [ 6.6969e-03,  5.9838e-04,  2.0319e-02,  9.9977e-01]],\n",
       "       dtype=torch.float64, grad_fn=<ViewBackward0>)"
      ]
     },
     "execution_count": 15,
     "metadata": {},
     "output_type": "execute_result"
    }
   ],
   "source": [
    "mpstpcp_model.kraus_ops[0].reshape(4,4)"
   ]
  }
 ],
 "metadata": {
  "kernelspec": {
   "display_name": "py310",
   "language": "python",
   "name": "python3"
  },
  "language_info": {
   "codemirror_mode": {
    "name": "ipython",
    "version": 3
   },
   "file_extension": ".py",
   "mimetype": "text/x-python",
   "name": "python",
   "nbconvert_exporter": "python",
   "pygments_lexer": "ipython3",
   "version": "3.10.13"
  }
 },
 "nbformat": 4,
 "nbformat_minor": 2
}
